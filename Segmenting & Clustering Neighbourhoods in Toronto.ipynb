{
    "nbformat_minor": 1, 
    "cells": [
        {
            "execution_count": 2, 
            "cell_type": "code", 
            "metadata": {}, 
            "outputs": [
                {
                    "output_type": "stream", 
                    "name": "stdout", 
                    "text": "Solving environment: done\n\n## Package Plan ##\n\n  environment location: /opt/conda/envs/DSX-Python35\n\n  added / updated specs: \n    - folium=0.5.0\n\n\nThe following packages will be downloaded:\n\n    package                    |            build\n    ---------------------------|-----------------\n    altair-2.2.2               |           py35_1         462 KB  conda-forge\n    certifi-2018.8.24          |        py35_1001         139 KB  conda-forge\n    vincent-0.4.4              |             py_1          28 KB  conda-forge\n    ca-certificates-2019.3.9   |       hecc5488_0         146 KB  conda-forge\n    openssl-1.0.2r             |       h14c3975_0         3.1 MB  conda-forge\n    folium-0.5.0               |             py_0          45 KB  conda-forge\n    branca-0.3.1               |             py_0          25 KB  conda-forge\n    ------------------------------------------------------------\n                                           Total:         4.0 MB\n\nThe following NEW packages will be INSTALLED:\n\n    altair:          2.2.2-py35_1      conda-forge\n    branca:          0.3.1-py_0        conda-forge\n    folium:          0.5.0-py_0        conda-forge\n    vincent:         0.4.4-py_1        conda-forge\n\nThe following packages will be UPDATED:\n\n    ca-certificates: 2019.1.23-0                   --> 2019.3.9-hecc5488_0 conda-forge\n    certifi:         2018.8.24-py35_1              --> 2018.8.24-py35_1001 conda-forge\n    openssl:         1.0.2r-h7b6447c_0             --> 1.0.2r-h14c3975_0   conda-forge\n\n\nDownloading and Extracting Packages\naltair-2.2.2         | 462 KB    | ##################################### | 100% \ncertifi-2018.8.24    | 139 KB    | ##################################### | 100% \nvincent-0.4.4        | 28 KB     | ##################################### | 100% \nca-certificates-2019 | 146 KB    | ##################################### | 100% \nopenssl-1.0.2r       | 3.1 MB    | ##################################### | 100% \nfolium-0.5.0         | 45 KB     | ##################################### | 100% \nbranca-0.3.1         | 25 KB     | ##################################### | 100% \nPreparing transaction: done\nVerifying transaction: done\nExecuting transaction: done\nLibraries imported.\n"
                }
            ], 
            "source": "#to explore and cluster the neighborhoods in Toronto.\nimport numpy as np # library to handle data in a vectorized manner\nimport pandas as pd # library for data analsysis\n\nimport json # library to handle JSON files\n\n#!conda install -c conda-forge geopy --yes # uncomment this line if you haven't completed the Foursquare API lab\nfrom geopy.geocoders import Nominatim # convert an address into latitude and longitude values\n\nimport requests # library to handle requests\nfrom pandas.io.json import json_normalize # tranform JSON file into a pandas dataframe\n\n# Matplotlib and associated plotting modules\nimport matplotlib.cm as cm\nimport matplotlib.colors as colors\n\n# import k-means from clustering stage\nfrom sklearn.cluster import KMeans\n\n!conda install -c conda-forge folium=0.5.0 --yes # uncomment this line if you haven't completed the Foursquare API lab\nimport folium # map rendering library\n\nprint('Libraries imported.')"
        }, 
        {
            "execution_count": 7, 
            "cell_type": "code", 
            "metadata": {}, 
            "outputs": [
                {
                    "output_type": "stream", 
                    "name": "stdout", 
                    "text": "Solving environment: done\n\n## Package Plan ##\n\n  environment location: /opt/conda/envs/DSX-Python35\n\n  added / updated specs: \n    - geocoder\n\n\nThe following packages will be downloaded:\n\n    package                    |            build\n    ---------------------------|-----------------\n    ratelim-0.1.6              |           py35_0           5 KB  conda-forge\n    geocoder-1.38.1            |             py_0          52 KB  conda-forge\n    orderedset-2.0             |           py35_0         685 KB  conda-forge\n    ------------------------------------------------------------\n                                           Total:         742 KB\n\nThe following NEW packages will be INSTALLED:\n\n    geocoder:   1.38.1-py_0  conda-forge\n    orderedset: 2.0-py35_0   conda-forge\n    ratelim:    0.1.6-py35_0 conda-forge\n\n\nDownloading and Extracting Packages\nratelim-0.1.6        | 5 KB      | ##################################### | 100% \ngeocoder-1.38.1      | 52 KB     | ##################################### | 100% \norderedset-2.0       | 685 KB    | ##################################### | 100% \nPreparing transaction: done\nVerifying transaction: done\nExecuting transaction: done\nThe geograpical coordinate of Toronto are 43.653963, -79.387207.\n"
                }
            ], 
            "source": "# Step 1: to scrape the following Wikipedia page by using pandas.read_html --> list of Data Frames\ntoronta_data = pd.read_html('https://en.wikipedia.org/wiki/List_of_postal_codes_of_Canada:_M')\n#to obtain the data that is in the table of postal codes and to transform the data into a pandas dataframe\nneighborhoods_data = toronta_data[0]\nneighborhoods_data\n\n#print('The dataframe has {} boroughs and {} neighborhoods.'.format(\n#        len(neighborhoods_data['Borough'].unique()),\n#        neighborhoods_data.shape[0]\n#    )\n#)\n\n## Step 2: Clean the dataframe.\n## Only process the cells that have an assigned borough. Ignore cells with a borough that is Not assigned.\n#neighborhoods = neighborhoods_data.groupby(['Postcode','Borough'])\n#neighborhoods.first()\n\n#toronto_df = neighborhoods_data.groupby(['Postcode','Borough'])['Neighbourhood'].agg(lambda x: ','.join(x))\n#toronto_df\n\n#toronto_df.shape\n\n##Step 3:To get the latitude & longitude coordinates of each neighborhood in order to utilize the Foursquare location data\n# define the dataframe columns\ncolumn_names = ['Postcode', 'Borough', 'Neighborhood', 'Latitude', 'Longitude'] \n\n# instantiate the dataframe\nneighbors = pd.DataFrame(columns=column_names)\n\n\n!conda install -c conda-forge geocoder --yes\nimport geocoder # import geocoder\n\n#In order to define an instance of the geocoder, we need to define a user_agent. We will name our agent tor_explorer, as shown below.\naddress = 'Toronto, Canada'\n\ngeolocator = Nominatim(user_agent=\"tor_explorer\")\nlocation = geolocator.geocode(address)\nlatitude = location.latitude\nlongitude = location.longitude\nprint('The geograpical coordinate of Toronto are {}, {}.'.format(latitude, longitude))"
        }, 
        {
            "execution_count": null, 
            "cell_type": "code", 
            "metadata": {}, 
            "outputs": [], 
            "source": ""
        }
    ], 
    "metadata": {
        "kernelspec": {
            "display_name": "Python 3.5", 
            "name": "python3", 
            "language": "python"
        }, 
        "language_info": {
            "mimetype": "text/x-python", 
            "nbconvert_exporter": "python", 
            "version": "3.5.5", 
            "name": "python", 
            "file_extension": ".py", 
            "pygments_lexer": "ipython3", 
            "codemirror_mode": {
                "version": 3, 
                "name": "ipython"
            }
        }
    }, 
    "nbformat": 4
}